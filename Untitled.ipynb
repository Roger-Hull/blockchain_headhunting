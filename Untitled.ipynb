{
 "cells": [
  {
   "cell_type": "code",
   "execution_count": 1,
   "id": "80576198-4df0-415e-94a0-75942567badd",
   "metadata": {},
   "outputs": [],
   "source": [
    "import os\n",
    "import requests\n",
    "from dotenv import load_dotenv\n",
    "load_dotenv()\n",
    "from bip44 import Wallet\n",
    "from web3 import Account\n",
    "from web3 import middleware\n",
    "from web3.gas_strategies.time_based import medium_gas_price_strategy\n"
   ]
  },
  {
   "cell_type": "code",
   "execution_count": 19,
   "id": "76a88690-9145-41fb-b9d4-9829afca79fd",
   "metadata": {},
   "outputs": [],
   "source": [
    "def generate_account():\n",
    "    \"\"\"Create a digital wallet and Ethereum account from a mnemonic seed phrase.\"\"\"\n",
    "    # Fetch mnemonic from environment variable.\n",
    "    mnemonic = os.getenv(\"MNEMONIC\")\n",
    "\n",
    "    # Create Wallet Object\n",
    "    wallet = Wallet(mnemonic)\n",
    "\n",
    "    # Derive Ethereum Private Key\n",
    "    private, public = wallet.derive_account(\"eth\")\n",
    "\n",
    "    # Convert private key into an Ethereum account\n",
    "    account = Account.privateKeyToAccount(private)\n",
    "\n",
    "    return account"
   ]
  },
  {
   "cell_type": "code",
   "execution_count": 18,
   "id": "67b09484-4ed1-47f4-9ed4-ca6e46af6909",
   "metadata": {},
   "outputs": [
    {
     "data": {
      "text/plain": [
       "<eth_account.signers.local.LocalAccount at 0x21f58462350>"
      ]
     },
     "execution_count": 18,
     "metadata": {},
     "output_type": "execute_result"
    }
   ],
   "source": [
    "mnemonic = \"april obtain exhaust quick early until citizen zone above lobster scissors symbol\"\n",
    "wallet = Wallet(mnemonic)\n",
    "private, public = wallet.derive_account(\"eth\")\n",
    "account = Account.privateKeyToAccount(private)\n",
    "account"
   ]
  },
  {
   "cell_type": "code",
   "execution_count": 20,
   "id": "f1cfece1-5c99-4011-81be-c515ec8d0151",
   "metadata": {},
   "outputs": [
    {
     "ename": "TypeError",
     "evalue": "String value expected",
     "output_type": "error",
     "traceback": [
      "\u001b[1;31m---------------------------------------------------------------------------\u001b[0m",
      "\u001b[1;31mTypeError\u001b[0m                                 Traceback (most recent call last)",
      "Input \u001b[1;32mIn [20]\u001b[0m, in \u001b[0;36m<cell line: 1>\u001b[1;34m()\u001b[0m\n\u001b[1;32m----> 1\u001b[0m account \u001b[38;5;241m=\u001b[39m \u001b[43mgenerate_account\u001b[49m\u001b[43m(\u001b[49m\u001b[43m)\u001b[49m\n",
      "Input \u001b[1;32mIn [19]\u001b[0m, in \u001b[0;36mgenerate_account\u001b[1;34m()\u001b[0m\n\u001b[0;32m      4\u001b[0m mnemonic \u001b[38;5;241m=\u001b[39m os\u001b[38;5;241m.\u001b[39mgetenv(\u001b[38;5;124m\"\u001b[39m\u001b[38;5;124mMNEMONIC\u001b[39m\u001b[38;5;124m\"\u001b[39m)\n\u001b[0;32m      6\u001b[0m \u001b[38;5;66;03m# Create Wallet Object\u001b[39;00m\n\u001b[1;32m----> 7\u001b[0m wallet \u001b[38;5;241m=\u001b[39m \u001b[43mWallet\u001b[49m\u001b[43m(\u001b[49m\u001b[43mmnemonic\u001b[49m\u001b[43m)\u001b[49m\n\u001b[0;32m      9\u001b[0m \u001b[38;5;66;03m# Derive Ethereum Private Key\u001b[39;00m\n\u001b[0;32m     10\u001b[0m private, public \u001b[38;5;241m=\u001b[39m wallet\u001b[38;5;241m.\u001b[39mderive_account(\u001b[38;5;124m\"\u001b[39m\u001b[38;5;124meth\u001b[39m\u001b[38;5;124m\"\u001b[39m)\n",
      "File \u001b[1;32m~\\miniconda3\\envs\\mlenv\\lib\\site-packages\\bip44\\wallet.py:20\u001b[0m, in \u001b[0;36mWallet.__init__\u001b[1;34m(self, mnemonic, language, passphrase)\u001b[0m\n\u001b[0;32m     12\u001b[0m \u001b[38;5;28;01mdef\u001b[39;00m \u001b[38;5;21m__init__\u001b[39m(\u001b[38;5;28mself\u001b[39m, mnemonic: \u001b[38;5;28mstr\u001b[39m, language: \u001b[38;5;28mstr\u001b[39m \u001b[38;5;241m=\u001b[39m \u001b[38;5;124m\"\u001b[39m\u001b[38;5;124menglish\u001b[39m\u001b[38;5;124m\"\u001b[39m, passphrase: \u001b[38;5;28mstr\u001b[39m \u001b[38;5;241m=\u001b[39m \u001b[38;5;124m\"\u001b[39m\u001b[38;5;124m\"\u001b[39m):\n\u001b[0;32m     13\u001b[0m     \u001b[38;5;124;03m\"\"\"\u001b[39;00m\n\u001b[0;32m     14\u001b[0m \u001b[38;5;124;03m    BIP44 HD wallet with a master mnemonic.\u001b[39;00m\n\u001b[0;32m     15\u001b[0m \n\u001b[1;32m   (...)\u001b[0m\n\u001b[0;32m     18\u001b[0m \u001b[38;5;124;03m    :param passphrase (str, optional): The mnemonic's passphrase, default: \"\"\u001b[39;00m\n\u001b[0;32m     19\u001b[0m \u001b[38;5;124;03m    \"\"\"\u001b[39;00m\n\u001b[1;32m---> 20\u001b[0m     \u001b[38;5;28mself\u001b[39m\u001b[38;5;241m.\u001b[39m_seed \u001b[38;5;241m=\u001b[39m \u001b[43mMnemonic\u001b[49m\u001b[43m(\u001b[49m\u001b[43mlanguage\u001b[49m\u001b[43m)\u001b[49m\u001b[38;5;241;43m.\u001b[39;49m\u001b[43mto_seed\u001b[49m\u001b[43m(\u001b[49m\u001b[43mmnemonic\u001b[49m\u001b[43m,\u001b[49m\u001b[43m \u001b[49m\u001b[43mpassphrase\u001b[49m\u001b[43m)\u001b[49m\n\u001b[0;32m     21\u001b[0m     \u001b[38;5;28mself\u001b[39m\u001b[38;5;241m.\u001b[39m_bip32 \u001b[38;5;241m=\u001b[39m BIP32\u001b[38;5;241m.\u001b[39mfrom_seed(\u001b[38;5;28mself\u001b[39m\u001b[38;5;241m.\u001b[39m_seed)\n",
      "File \u001b[1;32m~\\miniconda3\\envs\\mlenv\\lib\\site-packages\\mnemonic\\mnemonic.py:234\u001b[0m, in \u001b[0;36mMnemonic.to_seed\u001b[1;34m(cls, mnemonic, passphrase)\u001b[0m\n\u001b[0;32m    232\u001b[0m \u001b[38;5;129m@classmethod\u001b[39m\n\u001b[0;32m    233\u001b[0m \u001b[38;5;28;01mdef\u001b[39;00m \u001b[38;5;21mto_seed\u001b[39m(\u001b[38;5;28mcls\u001b[39m, mnemonic: \u001b[38;5;28mstr\u001b[39m, passphrase: \u001b[38;5;28mstr\u001b[39m \u001b[38;5;241m=\u001b[39m \u001b[38;5;124m\"\u001b[39m\u001b[38;5;124m\"\u001b[39m) \u001b[38;5;241m-\u001b[39m\u001b[38;5;241m>\u001b[39m \u001b[38;5;28mbytes\u001b[39m:\n\u001b[1;32m--> 234\u001b[0m     mnemonic \u001b[38;5;241m=\u001b[39m \u001b[38;5;28;43mcls\u001b[39;49m\u001b[38;5;241;43m.\u001b[39;49m\u001b[43mnormalize_string\u001b[49m\u001b[43m(\u001b[49m\u001b[43mmnemonic\u001b[49m\u001b[43m)\u001b[49m\n\u001b[0;32m    235\u001b[0m     passphrase \u001b[38;5;241m=\u001b[39m \u001b[38;5;28mcls\u001b[39m\u001b[38;5;241m.\u001b[39mnormalize_string(passphrase)\n\u001b[0;32m    236\u001b[0m     passphrase \u001b[38;5;241m=\u001b[39m \u001b[38;5;124m\"\u001b[39m\u001b[38;5;124mmnemonic\u001b[39m\u001b[38;5;124m\"\u001b[39m \u001b[38;5;241m+\u001b[39m passphrase\n",
      "File \u001b[1;32m~\\miniconda3\\envs\\mlenv\\lib\\site-packages\\mnemonic\\mnemonic.py:100\u001b[0m, in \u001b[0;36mMnemonic.normalize_string\u001b[1;34m(txt)\u001b[0m\n\u001b[0;32m     98\u001b[0m     utxt \u001b[38;5;241m=\u001b[39m txt\n\u001b[0;32m     99\u001b[0m \u001b[38;5;28;01melse\u001b[39;00m:\n\u001b[1;32m--> 100\u001b[0m     \u001b[38;5;28;01mraise\u001b[39;00m \u001b[38;5;167;01mTypeError\u001b[39;00m(\u001b[38;5;124m\"\u001b[39m\u001b[38;5;124mString value expected\u001b[39m\u001b[38;5;124m\"\u001b[39m)\n\u001b[0;32m    102\u001b[0m \u001b[38;5;28;01mreturn\u001b[39;00m unicodedata\u001b[38;5;241m.\u001b[39mnormalize(\u001b[38;5;124m\"\u001b[39m\u001b[38;5;124mNFKD\u001b[39m\u001b[38;5;124m\"\u001b[39m, utxt)\n",
      "\u001b[1;31mTypeError\u001b[0m: String value expected"
     ]
    }
   ],
   "source": [
    "account = generate_account()"
   ]
  },
  {
   "cell_type": "code",
   "execution_count": null,
   "id": "1a6fc9d2-806f-45fd-9af1-989f2bd07ccd",
   "metadata": {},
   "outputs": [],
   "source": []
  }
 ],
 "metadata": {
  "kernelspec": {
   "display_name": "Python 3 (ipykernel)",
   "language": "python",
   "name": "python3"
  },
  "language_info": {
   "codemirror_mode": {
    "name": "ipython",
    "version": 3
   },
   "file_extension": ".py",
   "mimetype": "text/x-python",
   "name": "python",
   "nbconvert_exporter": "python",
   "pygments_lexer": "ipython3",
   "version": "3.10.4"
  }
 },
 "nbformat": 4,
 "nbformat_minor": 5
}
